{
  "nbformat": 4,
  "nbformat_minor": 0,
  "metadata": {
    "colab": {
      "name": "code.ipynb",
      "provenance": [],
      "collapsed_sections": []
    },
    "kernelspec": {
      "name": "python3",
      "display_name": "Python 3"
    },
    "accelerator": "GPU"
  },
  "cells": [
    {
      "cell_type": "code",
      "metadata": {
        "id": "uQaLdNXXE5PW",
        "colab_type": "code",
        "outputId": "2bd0fda8-fa15-436e-d526-b0fc97b931ad",
        "colab": {
          "base_uri": "https://localhost:8080/",
          "height": 360
        }
      },
      "source": [
        "# install OpenCV\n",
        "!pip install opencv-python==3.4.2.16\n",
        "!pip install opencv-contrib-python==3.4.2.16\n",
        "\n"
      ],
      "execution_count": 0,
      "outputs": [
        {
          "output_type": "stream",
          "text": [
            "Collecting opencv-python==3.4.2.16\n",
            "\u001b[?25l  Downloading https://files.pythonhosted.org/packages/fa/7d/5042b668a8ed41d2a80b8c172f5efcd572e3c046c75ae029407e19b7fc68/opencv_python-3.4.2.16-cp36-cp36m-manylinux1_x86_64.whl (25.0MB)\n",
            "\u001b[K     |████████████████████████████████| 25.0MB 36.6MB/s \n",
            "\u001b[?25hRequirement already satisfied: numpy>=1.11.3 in /usr/local/lib/python3.6/dist-packages (from opencv-python==3.4.2.16) (1.17.4)\n",
            "\u001b[31mERROR: albumentations 0.1.12 has requirement imgaug<0.2.7,>=0.2.5, but you'll have imgaug 0.2.9 which is incompatible.\u001b[0m\n",
            "Installing collected packages: opencv-python\n",
            "  Found existing installation: opencv-python 3.4.7.28\n",
            "    Uninstalling opencv-python-3.4.7.28:\n",
            "      Successfully uninstalled opencv-python-3.4.7.28\n",
            "Successfully installed opencv-python-3.4.2.16\n",
            "Collecting opencv-contrib-python==3.4.2.16\n",
            "\u001b[?25l  Downloading https://files.pythonhosted.org/packages/08/f1/66330f4042c4fb3b2d77a159db8e8916d9cdecc29bc8c1f56bc7f8a9bec9/opencv_contrib_python-3.4.2.16-cp36-cp36m-manylinux1_x86_64.whl (30.6MB)\n",
            "\u001b[K     |████████████████████████████████| 30.6MB 1.9MB/s \n",
            "\u001b[?25hRequirement already satisfied: numpy>=1.11.3 in /usr/local/lib/python3.6/dist-packages (from opencv-contrib-python==3.4.2.16) (1.17.4)\n",
            "Installing collected packages: opencv-contrib-python\n",
            "  Found existing installation: opencv-contrib-python 3.4.3.18\n",
            "    Uninstalling opencv-contrib-python-3.4.3.18:\n",
            "      Successfully uninstalled opencv-contrib-python-3.4.3.18\n",
            "Successfully installed opencv-contrib-python-3.4.2.16\n"
          ],
          "name": "stdout"
        }
      ]
    },
    {
      "cell_type": "code",
      "metadata": {
        "id": "YyBtQwW1W0ZS",
        "colab_type": "code",
        "colab": {}
      },
      "source": [
        "import cv2 \n",
        "import os\n",
        "from google.colab.patches import cv2_imshow\n",
        "import glob\n",
        "import numpy.linalg as la\n",
        "import numpy as np \n",
        "import matplotlib.pyplot as plt\n"
      ],
      "execution_count": 0,
      "outputs": []
    },
    {
      "cell_type": "markdown",
      "metadata": {
        "id": "A30S9vuDn4c5",
        "colab_type": "text"
      },
      "source": [
        "**Video Processing**"
      ]
    },
    {
      "cell_type": "code",
      "metadata": {
        "id": "yXiUTmGKWt8R",
        "colab_type": "code",
        "colab": {}
      },
      "source": [
        "# code for splitting input video into image frame \n",
        "# In our project, we saved the result after face detection/ \n",
        "video = cv2.VideoCapture('/content/test_video.mp4')\n",
        "\n",
        "image_folder = '/content/image/'\n",
        "if not os.path.exists(image_folder):\n",
        "    os.makedirs(image_folder)\n",
        "\n",
        "status = True\n",
        "count = 0\n",
        "while(status):\n",
        "    status, frame = video.read()\n",
        "    if(status == False):\n",
        "        break\n",
        "    cv2.imwrite(os.path.join(image_folder, str(count)+'.png'), frame)\n",
        "    count+=1\n"
      ],
      "execution_count": 0,
      "outputs": []
    },
    {
      "cell_type": "code",
      "metadata": {
        "id": "CVezIZy2XcUs",
        "colab_type": "code",
        "colab": {}
      },
      "source": [
        "# code for composing all image frames\n",
        "img_array = [None] * count\n",
        "for filename in glob.glob('/content/image/*.png'):\n",
        "    img = cv2.imread(filename)\n",
        "    index = int(filename.split(\"/\")[-1].split(\".\")[0])\n",
        "    height, width, channels = img.shape\n",
        "    size = (width,height)\n",
        "    img_array[index] = img\n",
        " \n",
        "out = cv2.VideoWriter('new4.mp4',cv2.VideoWriter_fourcc(*'DIVX'), 30, size)\n",
        " \n",
        "for i in range(len(img_array)):\n",
        "    out.write(img_array[i])"
      ],
      "execution_count": 0,
      "outputs": []
    },
    {
      "cell_type": "markdown",
      "metadata": {
        "id": "Oj6UBuyg3ad0",
        "colab_type": "text"
      },
      "source": [
        "**SIFT**"
      ]
    },
    {
      "cell_type": "code",
      "metadata": {
        "id": "idysqNNfoCJm",
        "colab_type": "code",
        "colab": {}
      },
      "source": [
        "def get_descriptor(img):\n",
        "    gray= cv2.cvtColor(img,cv2.COLOR_BGR2GRAY)\n",
        "    sift = cv2.xfeatures2d.SIFT_create()\n",
        "    kp = sift.detect(gray,None)\n",
        "    kp,des = sift.compute(gray,kp)\n",
        "    return kp,des"
      ],
      "execution_count": 0,
      "outputs": []
    },
    {
      "cell_type": "code",
      "metadata": {
        "id": "X3LM8SM73S3P",
        "colab_type": "code",
        "colab": {}
      },
      "source": [
        "def countMatch(img1,img2):\n",
        "  kp1,des1 = get_descriptor(img1)\n",
        "  kp2,des2 = get_descriptor(img2)\n",
        "  num = []\n",
        "  for i in range(len(des1)):\n",
        "    match =[]\n",
        "    temp = des1[i]\n",
        "    for j in range(len(des2)):\n",
        "      difference = temp-des2[j]\n",
        "      norm = la.norm(difference,2)\n",
        "      match.append(norm)\n",
        "    smallest = min(match)\n",
        "    match.remove(smallest)\n",
        "    second_small = min(match)\n",
        "    val = smallest/second_small\n",
        "    if val < 0.7:\n",
        "      num.append(val)\n",
        "  return len(num)\n",
        "  "
      ],
      "execution_count": 0,
      "outputs": []
    },
    {
      "cell_type": "code",
      "metadata": {
        "id": "vWIp5XnnE3V4",
        "colab_type": "code",
        "colab": {}
      },
      "source": [
        "dictionary = {}\n",
        "different_frames = 0\n",
        "img_array = [None] * count\n",
        "location = (500, 25) \n",
        "fontScale = 1\n",
        "font = cv2.FONT_HERSHEY_SIMPLEX \n",
        "color = (0, 255, 255) \n",
        "thickness = 2\n",
        "for filename in glob.glob('/content/image/*.png'):\n",
        "    img = cv2.imread(filename)\n",
        "    index = int(filename.split(\"/\")[-1].split(\".\")[0])\n",
        "    height, width, channels = img.shape\n",
        "    size = (width,height)\n",
        "    img_array[index] = img\n",
        "\n",
        "for i in range(1,count):\n",
        "   print(i)\n",
        "   previous = img_array[i-1]\n",
        "   img = img_array[i]\n",
        "   match = countMatch(previous,img)\n",
        "   if(match < 100):\n",
        "     different_frames +=1\n",
        "     dictionary[different_frames] = i\n",
        "   img = cv2.putText(img, str(different_frames), location, font,  \n",
        "                   fontScale, color, thickness, cv2.LINE_AA) \n",
        "   img_array[i] = img"
      ],
      "execution_count": 0,
      "outputs": []
    },
    {
      "cell_type": "code",
      "metadata": {
        "id": "VHou5hELAgLC",
        "colab_type": "code",
        "outputId": "4c3065b4-9066-4c56-951b-3f36591ac9f7",
        "colab": {
          "base_uri": "https://localhost:8080/",
          "height": 34
        }
      },
      "source": [
        "previous = img_array[209]\n",
        "img = img_array[210]\n",
        "match = countMatch(previous,img)\n",
        "print(match)"
      ],
      "execution_count": 0,
      "outputs": [
        {
          "output_type": "stream",
          "text": [
            "8\n"
          ],
          "name": "stdout"
        }
      ]
    },
    {
      "cell_type": "markdown",
      "metadata": {
        "id": "THSu-BKp3hOk",
        "colab_type": "text"
      },
      "source": [
        "**Normalized Histogram Correlation**"
      ]
    },
    {
      "cell_type": "code",
      "metadata": {
        "id": "omzHBh4K54IN",
        "colab_type": "code",
        "colab": {}
      },
      "source": [
        "dictionary = {}\n",
        "different_frames = 0\n",
        "img_array = [None] * count\n",
        "location = (500, 25) \n",
        "fontScale = 1\n",
        "font = cv2.FONT_HERSHEY_SIMPLEX \n",
        "color = (0, 255, 255) \n",
        "thickness = 2\n",
        "for filename in glob.glob('/content/image/*.png'):\n",
        "    img = cv2.imread(filename)\n",
        "    index = int(filename.split(\"/\")[-1].split(\".\")[0])\n",
        "    height, width, channels = img.shape\n",
        "    size = (width,height)\n",
        "    if(index == 0):\n",
        "      img = cv2.putText(img, str(index), location, font,  \n",
        "                   fontScale, color, thickness, cv2.LINE_AA) \n",
        "    img_array[index] = img\n",
        " \n",
        "for i in range(1,count):\n",
        "   previous = img_array[i-1]\n",
        "   img = img_array[i]\n",
        "   hist1 = cv2.calcHist([previous],[0,1,2],None,[256, 256,256],[0,256,0,256,0,256])\n",
        "   cv2.normalize(hist1, hist1)\n",
        "   hist2 = cv2.calcHist([img],[0,1,2],None,[256, 256,256],[0,256,0,256,0,256])\n",
        "   cv2.normalize(hist2, hist2)\n",
        "   similarity = cv2.compareHist(hist1, hist2, cv2.HISTCMP_CORREL)\n",
        "   if(similarity < 0.4):\n",
        "     different_frames +=1\n",
        "     dictionary[different_frames] = i\n",
        "   img = cv2.putText(img, str(different_frames), location, font,  \n",
        "                   fontScale, color, thickness, cv2.LINE_AA) \n",
        "   img_array[i] = img\n"
      ],
      "execution_count": 0,
      "outputs": []
    },
    {
      "cell_type": "code",
      "metadata": {
        "id": "HyKOQlYiANdv",
        "colab_type": "code",
        "outputId": "4fc9ec11-e7e1-4a7b-c4a1-6ebf266b2183",
        "colab": {
          "base_uri": "https://localhost:8080/",
          "height": 265
        }
      },
      "source": [
        "previous = img_array[209]\n",
        "color_list = ('r','g','b')\n",
        "plt.figure()\n",
        "for index,color in enumerate(color_list):\n",
        "    hist = cv2.calcHist([previous],[index],None,[256],[0,256])\n",
        "    cv2.normalize(hist, hist)\n",
        "    plt.plot(hist,color)\n",
        "    plt.xlim([0,256])\n",
        "plt.show()\n"
      ],
      "execution_count": 0,
      "outputs": [
        {
          "output_type": "display_data",
          "data": {
            "image/png": "[encoded data removed]",
            "text/plain": [
              "<Figure size 432x288 with 1 Axes>"
            ]
          },
          "metadata": {
            "tags": []
          }
        }
      ]
    },
    {
      "cell_type": "code",
      "metadata": {
        "id": "E_PFKBXyAQ5K",
        "colab_type": "code",
        "outputId": "491f506b-5896-429f-ad83-221a8c842007",
        "colab": {
          "base_uri": "https://localhost:8080/",
          "height": 265
        }
      },
      "source": [
        "img = img_array[210]\n",
        "color_list = ('r','g','b')\n",
        "plt.figure()\n",
        "for index,color in enumerate(color_list):\n",
        "    hist = cv2.calcHist([img],[index],None,[256],[0,256])\n",
        "    cv2.normalize(hist, hist)\n",
        "    plt.plot(hist,color)\n",
        "    plt.xlim([0,256])\n",
        "plt.show()\n"
      ],
      "execution_count": 0,
      "outputs": [
        {
          "output_type": "display_data",
          "data": {
            "image/png": "[encoded data removed]",
            "text/plain": [
              "<Figure size 432x288 with 1 Axes>"
            ]
          },
          "metadata": {
            "tags": []
          }
        }
      ]
    },
    {
      "cell_type": "code",
      "metadata": {
        "id": "TGcTjxwn_MZh",
        "colab_type": "code",
        "outputId": "1255316b-b683-4503-ca4c-926288d217e7",
        "colab": {
          "base_uri": "https://localhost:8080/",
          "height": 265
        }
      },
      "source": [
        "previous = img_array[99]\n",
        "color_list = ('r','g','b')\n",
        "plt.figure()\n",
        "for index,color in enumerate(color_list):\n",
        "    hist = cv2.calcHist([previous],[index],None,[256],[0,256])\n",
        "    cv2.normalize(hist, hist)\n",
        "    plt.plot(hist,color)\n",
        "    plt.xlim([0,256])\n",
        "plt.show()\n"
      ],
      "execution_count": 0,
      "outputs": [
        {
          "output_type": "display_data",
          "data": {
            "image/png": "[encoded data removed]",
            "text/plain": [
              "<Figure size 432x288 with 1 Axes>"
            ]
          },
          "metadata": {
            "tags": []
          }
        }
      ]
    },
    {
      "cell_type": "code",
      "metadata": {
        "id": "yLEyMhoS_5Og",
        "colab_type": "code",
        "outputId": "4ce08172-8444-4a69-db4a-b54d0be70273",
        "colab": {
          "base_uri": "https://localhost:8080/",
          "height": 265
        }
      },
      "source": [
        "img =img_array[100]\n",
        "color_list = ('r','g','b')\n",
        "plt.figure()\n",
        "for index,color in enumerate(color_list):\n",
        "    hist = cv2.calcHist([img],[index],None,[256],[0,256])\n",
        "    cv2.normalize(hist, hist)\n",
        "    plt.plot(hist,color)\n",
        "    plt.xlim([0,256])\n",
        "plt.show()\n"
      ],
      "execution_count": 0,
      "outputs": [
        {
          "output_type": "display_data",
          "data": {
            "image/png": "[encoded data removed]",
            "text/plain": [
              "<Figure size 432x288 with 1 Axes>"
            ]
          },
          "metadata": {
            "tags": []
          }
        }
      ]
    },
    {
      "cell_type": "markdown",
      "metadata": {
        "id": "swasxLqf6aLt",
        "colab_type": "text"
      },
      "source": [
        "**Face Detection**"
      ]
    },
    {
      "cell_type": "code",
      "metadata": {
        "id": "MSthvJca8QZ6",
        "colab_type": "code",
        "colab": {}
      },
      "source": [
        "capture = cv2.VideoCapture('test.mp4')\n",
        "\n",
        "face_cascade = cv2.CascadeClassifier('haarcascade_frontalface_default.xml')\n",
        "image_folder = '/content/image/'\n",
        "if not os.path.exists(image_folder):\n",
        "    os.makedirs(image_folder)\n",
        "\n",
        "count = 0\n",
        "status = True\n",
        "font = cv2.FONT_HERSHEY_SIMPLEX \n",
        "fontScale = 1\n",
        "color = (0, 255, 255) \n",
        "thickness = 2\n",
        "while(status):\n",
        "    status, frame = capture.read()\n",
        "    if(status == False):\n",
        "        break\n",
        "  \n",
        "    gray = cv2.cvtColor(frame, cv2.COLOR_BGR2GRAY)\n",
        "    faces = face_cascade.detectMultiScale(gray, 1.2, 3)\n",
        "    # Display the resulting frame\n",
        "    for (x,y,w,h) in faces:\n",
        "         cv2.rectangle(frame,(x,y),(x+w,y+h),(0,255,0),2)\n",
        "        # code for only draw box on face\n",
        "        #  color_box = img[y:y+h, x:x+w]  \n",
        "        #  plt.imshow(cv2.cvtColor(color_box, cv2.COLOR_BGR2RGB))\n",
        "\n",
        "    cv2.imwrite(os.path.join(image_folder, str(count)+'.png'), frame)\n",
        "    count+=1\n",
        "\n"
      ],
      "execution_count": 0,
      "outputs": []
    },
    {
      "cell_type": "code",
      "metadata": {
        "id": "q_5xQnSTOWO7",
        "colab_type": "code",
        "colab": {}
      },
      "source": [
        "img_array = [None] * count\n",
        "for filename in glob.glob('/content/image/*.png'):\n",
        "    img = cv2.imread(filename)\n",
        "    index = int(filename.split(\"/\")[-1].split(\".\")[0])\n",
        "    height, width, channels = img.shape\n",
        "    size = (width,height)\n",
        "    img_array[index] = img"
      ],
      "execution_count": 0,
      "outputs": []
    },
    {
      "cell_type": "code",
      "metadata": {
        "id": "ImkFNBAaNlSl",
        "colab_type": "code",
        "colab": {}
      },
      "source": [
        "out = cv2.VideoWriter('qq.mp4',cv2.VideoWriter_fourcc(*'DIVX'), 30, size)\n",
        " \n",
        "for i in range(len(img_array)):\n",
        "    out.write(img_array[i])"
      ],
      "execution_count": 0,
      "outputs": []
    },
    {
      "cell_type": "markdown",
      "metadata": {
        "id": "Buo7zjUR6g5j",
        "colab_type": "text"
      },
      "source": [
        "**Gender Recognition**"
      ]
    },
    {
      "cell_type": "code",
      "metadata": {
        "id": "5wWXIpz1Qm5S",
        "colab_type": "code",
        "colab": {}
      },
      "source": [
        "import keras\n",
        "from keras.models import load_model\n",
        "from PIL import Image, ImageOps\n",
        "\n",
        "\n",
        "face_cascade = cv2.CascadeClassifier('/content/haarcascade_frontalface_default.xml')\n",
        "image_folder = '/content/image/'\n",
        "if not os.path.exists(image_folder):\n",
        "    os.makedirs(image_folder)\n",
        "\n",
        "count = 0\n",
        "status = True\n",
        "font = cv2.FONT_HERSHEY_SIMPLEX \n",
        "fontScale = 1\n",
        "color = (0, 255, 255) \n",
        "thickness = 2\n",
        "\n",
        "# load trained model and reuse it to predict\n",
        "model = load_model('/content/weights9.16-0.95.h5')\n",
        "\n",
        "video = cv2.VideoCapture('/content/test_video.mp4')\n",
        "\n",
        "status = True\n",
        "count = 0\n",
        "while(status):\n",
        "    status, frame = video.read()\n",
        "    if(status == False):\n",
        "        break\n",
        "    gray = cv2.cvtColor(frame, cv2.COLOR_BGR2GRAY)\n",
        "    faces = face_cascade.detectMultiScale(gray, 1.3, 5)\n",
        "    # Display the resulting frame\n",
        "    for (x,y,w,h) in faces:\n",
        "        cv2.rectangle(frame,(x,y),(x+w,y+h),(0,255,0),2)\n",
        "        # code for only draw box on face\n",
        "        #  gray_box = gray[y:y+h, x:x+w]\n",
        "        #  color_box = img[y:y+h, x:x+w]  \n",
        "        #  plt.imshow(cv2.cvtColor(color_box, cv2.COLOR_BGR2RGB))\n",
        "        # result = \n",
        "        location = (faces[0][0]-5,faces[0][1]-5)\n",
        "        # ------ code from Mingjie\n",
        "        # Cut the facial part we need for emotion prediction\n",
        "        test_img = gray[y:y+h+1,:][:,x:x+w+1]\n",
        "        # first convert the numpy array to an RGB image,\n",
        "        # then resize it to 48x48, and convert it back to numpy array\n",
        "        # in the format required by the trained CNN model\n",
        "        # for a better resized result\n",
        "        img = Image.fromarray(test_img,\"L\")\n",
        "        size = (48, 48)\n",
        "        resized_test_gray = ImageOps.fit(img, size, Image.ANTIALIAS)\n",
        "        resized_test_gray = np.array(resized_test_gray) / 255.0\n",
        "        test_gray_resized = resized_test_gray.reshape(1, 48, 48, 1)\n",
        "        # put the face into model and make emotion prediction\n",
        "        test_pred = np.argmax(model.predict(test_gray_resized))\n",
        "        # category with highest predicted score will become the output\n",
        "        label_list = ['woman','man']\n",
        "        pred = label_list[test_pred]\n",
        "        # ------ code from Mingjie\n",
        "        # predicted emotion as a string will be printed above the frame\n",
        "        frame = cv2.putText(frame, pred, location, font,  \n",
        "                fontScale, color, thickness, cv2.LINE_AA) \n",
        "\n",
        "    cv2.imwrite(os.path.join(image_folder, str(count)+'.png'), frame)\n",
        "    count+=1\n"
      ],
      "execution_count": 0,
      "outputs": []
    },
    {
      "cell_type": "code",
      "metadata": {
        "id": "HeC0sEqEcIrX",
        "colab_type": "code",
        "colab": {}
      },
      "source": [
        "img_array = [None] * count\n",
        "for filename in glob.glob('/content/image/*.png'):\n",
        "    img = cv2.imread(filename)\n",
        "    index = int(filename.split(\"/\")[-1].split(\".\")[0])\n",
        "    height, width, channels = img.shape\n",
        "    size = (width,height)\n",
        "    img_array[index] = img"
      ],
      "execution_count": 0,
      "outputs": []
    },
    {
      "cell_type": "code",
      "metadata": {
        "id": "G7135vGjcLtV",
        "colab_type": "code",
        "colab": {}
      },
      "source": [
        "out = cv2.VideoWriter('qq.mp4',cv2.VideoWriter_fourcc(*'DIVX'), 30, size)\n",
        " \n",
        "for i in range(len(img_array)):\n",
        "    out.write(img_array[i])"
      ],
      "execution_count": 0,
      "outputs": []
    },
    {
      "cell_type": "code",
      "metadata": {
        "id": "daI3fRea77gr",
        "colab_type": "code",
        "outputId": "7906659f-aec1-447d-b6d7-6490d89a1aca",
        "colab": {
          "base_uri": "https://localhost:8080/",
          "height": 97
        }
      },
      "source": [
        "import keras\n",
        "from keras.models import load_model\n",
        "from PIL import Image, ImageOps"
      ],
      "execution_count": 0,
      "outputs": [
        {
          "output_type": "stream",
          "text": [
            "Using TensorFlow backend.\n"
          ],
          "name": "stderr"
        },
        {
          "output_type": "display_data",
          "data": {
            "text/html": [
              "<p style=\"color: red;\">\n",
              "The default version of TensorFlow in Colab will soon switch to TensorFlow 2.x.<br>\n",
              "We recommend you <a href=\"https://www.tensorflow.org/guide/migrate\" target=\"_blank\">upgrade</a> now \n",
              "or ensure your notebook will continue to use TensorFlow 1.x via the <code>%tensorflow_version 1.x</code> magic:\n",
              "<a href=\"https://colab.research.google.com/notebooks/tensorflow_version.ipynb\" target=\"_blank\">more info</a>.</p>\n"
            ],
            "text/plain": [
              "<IPython.core.display.HTML object>"
            ]
          },
          "metadata": {
            "tags": []
          }
        }
      ]
    },
    {
      "cell_type": "markdown",
      "metadata": {
        "id": "J5CmpjNhcgBm",
        "colab_type": "text"
      },
      "source": [
        "**Gender recognition for specific image**"
      ]
    },
    {
      "cell_type": "code",
      "metadata": {
        "id": "7Q2_7Lqzf2gr",
        "colab_type": "code",
        "colab": {}
      },
      "source": [
        "import keras\n",
        "from keras.models import load_model\n",
        "from PIL import Image, ImageOps\n",
        "\n",
        "face_cascade = cv2.CascadeClassifier('/content/haarcascade_frontalface_default.xml')\n",
        "image_folder = '/content/image/'\n",
        "if not os.path.exists(image_folder):\n",
        "    os.makedirs(image_folder)\n",
        "\n",
        "model = load_model('/content/weights9.16-0.95.h5')\n",
        "frame = cv2.imread('/content/test.jpg')\n",
        "\n",
        "font = cv2.FONT_HERSHEY_SIMPLEX \n",
        "fontScale = 1\n",
        "color = (0, 255, 255) \n",
        "thickness = 2\n",
        "\n",
        "gray = cv2.cvtColor(frame, cv2.COLOR_BGR2GRAY)\n",
        "faces = face_cascade.detectMultiScale(gray, 1.25, 3)\n",
        "count = 0\n",
        "# Display the resulting frame\n",
        "for (x,y,w,h) in faces:\n",
        "    cv2.rectangle(frame,(x,y),(x+w,y+h),(0,255,0),2)\n",
        "    # code for only draw box on face\n",
        "    #  gray_box = gray[y:y+h, x:x+w]\n",
        "    #  color_box = img[y:y+h, x:x+w]  \n",
        "    #  plt.imshow(cv2.cvtColor(color_box, cv2.COLOR_BGR2RGB))\n",
        "    # result = \n",
        "    location = (faces[0][0]-5,faces[0][1]-5)\n",
        "    # ------ code from Mingjie\n",
        "    # Cut the facial part we need for emotion prediction\n",
        "    test_img = gray[y:y+h+1,:][:,x:x+w+1]\n",
        "    # first convert the numpy array to an RGB image,\n",
        "    # then resize it to 48x48, and convert it back to numpy array\n",
        "    # in the format required by the trained CNN model\n",
        "    # for a better resized result\n",
        "    img = Image.fromarray(test_img,\"L\")\n",
        "    size = (48, 48)\n",
        "    resized_test_gray = ImageOps.fit(img, size, Image.ANTIALIAS)\n",
        "    resized_test_gray = np.array(resized_test_gray) / 255.0\n",
        "    test_gray_resized = resized_test_gray.reshape(1, 48, 48, 1)\n",
        "    # put the face into model and make emotion prediction\n",
        "    test_pred = np.argmax(model.predict(test_gray_resized))\n",
        "    # category with highest predicted score will become the output\n",
        "    label_list = ['woman','man']\n",
        "    pred = label_list[test_pred]\n",
        "    # ------ code from Mingjie\n",
        "    # predicted emotion as a string will be printed above the frame\n",
        "    frame = cv2.putText(frame, pred, location, font,  \n",
        "            fontScale, color, thickness, cv2.LINE_AA) \n",
        "\n",
        "cv2.imwrite(os.path.join(image_folder, str(count)+'.png'), frame)\n",
        "count+=1"
      ],
      "execution_count": 0,
      "outputs": []
    }
  ]
}